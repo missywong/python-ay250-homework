{
 "cells": [
  {
   "cell_type": "markdown",
   "metadata": {},
   "source": [
    "## Chutes and Ladders in Monte Carlo ##"
   ]
  },
  {
   "cell_type": "markdown",
   "metadata": {},
   "source": [
    "<img align=\"center\" width=\"50%\" src=\"http://i.imgur.com/Sshgk4X.jpg\"></img>"
   ]
  },
  {
   "cell_type": "markdown",
   "metadata": {},
   "source": [
    "The game of Chutes and Ladders is pretty well known. What you didn't known until now is that you'd be cutting your Python chops in creating a simulation of the game for the purpose of gaining some serious insight. By keeping track of your simulations you'll learn some interesting things about such a simple game."
   ]
  },
  {
   "cell_type": "markdown",
   "metadata": {},
   "source": [
    "### Create a simulation of the game.###"
   ]
  },
  {
   "cell_type": "markdown",
   "metadata": {},
   "source": [
    "The basic idea is to try to get to square 100 starting at 0. You role a die (or spin a wheel) and play against others doing the same. If you finish a turn at the base of a ladder, you go to the top. If you finish a turn at the top of a chute (slide) you go down to the bottom of the slide. Familiarize yourself with the [full rules](http://www.hasbro.com/common/documents/dad2614c1c4311ddbd0b0800200c9a66/43EA24525056900B105B53AC74279484.pdf).\n",
    "\n",
    "First, build a compact representation of the location of the location of the chutes and ladders using a Python dictionary.\n",
    "\n",
    "Next, create `Pawn` class that keeps track of the location of a player and simulates (using the `random` module) the Pawn movement. You should also create a `Game` class that keeps track of the game play as many Pawns move throughout the board. By calling a method of Game `.run()` a full Game is simulated.\n",
    "\n",
    "Make sure that the Pawn and Game classes keep statistics on the results, like how many moves were made, how many ladders and chutes were hit, which player wins etc.\n",
    "\n",
    "Simulate 1000 games with 2 players. Simulate 1000 games with 4 players."
   ]
  },
  {
   "cell_type": "markdown",
   "metadata": {},
   "source": [
    "## Questions to Answer with your Simulation ##"
   ]
  },
  {
   "cell_type": "markdown",
   "metadata": {},
   "source": [
    "1. What is the average number of turns a player must take before she gets to 100?\n",
    "\n",
    "2. What is the minimal number of turns in the simulation before getting to 100? What was the sequence of values in the spin in each turn? What was the longest number of turns?\n",
    "\n",
    "3. What is the ordering of first spins in a game that gives, on average, the quickest path to 100? What about the median?\n",
    "\n",
    "4. What is the probability that someone who goes first will win in a 2 and 4 person game?\n",
    "\n",
    "5. (optional) Ask another question of your simulation and answer it."
   ]
  },
  {
   "cell_type": "code",
   "execution_count": null,
   "metadata": {
    "collapsed": false
   },
   "outputs": [],
   "source": [
    "Chuteladder = {1:38, 4:14, 9:31, 16:6, 21:43, 28:84, 36:44, \n",
    "               48:26, 49:13, 51:67, 64:60, 62:19, 71:91, 80:100, \n",
    "               87:24, 93:73, 95:75, 98:78}\n",
    "print(Chuteladder)"
   ]
  },
  {
   "cell_type": "code",
   "execution_count": null,
   "metadata": {
    "collapsed": false
   },
   "outputs": [],
   "source": [
    "import random\n",
    "def spinwheel():\n",
    "    return random.randint(1,6)\n",
    "print(spinwheel())"
   ]
  },
  {
   "cell_type": "code",
   "execution_count": null,
   "metadata": {
    "collapsed": false
   },
   "outputs": [],
   "source": [
    "import random #imported random function\n",
    "namelist = [] #created a list empty list to be input by user\n",
    "while 1:\n",
    "    name = input('Enter your name, or type . to run: ')\n",
    "    if name == \".\":\n",
    "        break\n",
    "        \n",
    "    \n",
    "    namelist.append(name) #each new name is added to the list\n",
    "while 1:\n",
    "    if not namelist: #if not on the named list, break\n",
    "        break\n",
    "    pickedname = random.choice(namelist) #pulling the method of picking a name\n",
    "    namelist.remove(pickedname) #each pickname is removed from the list\n",
    "    print(pickedname) #each name picked is printed in order\n",
    "    \n",
    "\n"
   ]
  },
  {
   "cell_type": "code",
   "execution_count": null,
   "metadata": {
    "collapsed": false
   },
   "outputs": [],
   "source": [
    "def movepawn(startposition):#(a prameter) this what I define, passing it\n",
    "    spin = spinwheel()\n",
    "    movepawn = startposition + spin\n",
    "    try: \n",
    "        movepawn = Chuteladder[movepawn]\n",
    "    except: \n",
    "        pass\n",
    "    return movepawn\n",
    "   "
   ]
  },
  {
   "cell_type": "code",
   "execution_count": null,
   "metadata": {
    "collapsed": false
   },
   "outputs": [],
   "source": [
    "\n",
    "def playgame():\n",
    "    pawns = {1:0, 2:0}\n",
    "    while 1:\n",
    "        for pawn,position in pawns.items(): \n",
    "            newposition = movepawn(position)\n",
    "            if newposition >= 100:\n",
    "                return pawn\n",
    "            else: pawns[pawn] = newposition\n"
   ]
  },
  {
   "cell_type": "code",
   "execution_count": null,
   "metadata": {
    "collapsed": false
   },
   "outputs": [],
   "source": [
    "twoplayerlist = []\n",
    "\n",
    "for i in range(100):\n",
    "    pass\n",
    "    twoplayerlist.append(playgame())\n",
    "print(twoplayerlist)\n"
   ]
  },
  {
   "cell_type": "code",
   "execution_count": 3,
   "metadata": {
    "collapsed": true
   },
   "outputs": [],
   "source": [
    "\n"
   ]
  },
  {
   "cell_type": "code",
   "execution_count": 153,
   "metadata": {
    "collapsed": false
   },
   "outputs": [
    {
     "name": "stdout",
     "output_type": "stream",
     "text": [
      "17.417\n",
      "7\n",
      "[[1, 4, 4, 5, 4, 6, 4], [1, 3, 4, 6, 3, 4, 6], [1, 6, 6, 1, 3, 4, 6], [1, 5, 3, 5, 4, 6, 6], [1, 4, 4, 5, 1, 6, 6], [1, 5, 4, 4, 6, 3, 4]]\n",
      "68\n"
     ]
    }
   ],
   "source": [
    "class Pawn:\n",
    "    def __init__(self):\n",
    "        self.listofspins = []\n",
    "        self.currentposition = 0\n",
    "\n",
    "Chuteladder = {1:38, 4:14, 9:31, 16:6, 21:43, 28:84, 36:44, \n",
    "               48:26, 49:13, 51:67, 64:60, 62:19, 71:91, 80:100, \n",
    "               87:24, 93:73, 95:75, 98:78}\n",
    "import random\n",
    "def spinwheel():\n",
    "    return random.randint(1,6)\n",
    "\n",
    "def movepawn(startposition, spin):#(a prameter) this what I define, passing it\n",
    "    movepawn = startposition + spin\n",
    "    try: \n",
    "        movepawn = Chuteladder[movepawn]\n",
    "    except: \n",
    "        pass\n",
    "    return movepawn\n",
    "\n",
    "def playgame():\n",
    "    pawn1 = Pawn()\n",
    "    pawn2 = Pawn()\n",
    "    pawn3 = Pawn()\n",
    "    pawn4 = Pawn()\n",
    "    pawns = {1:pawn1, 2:pawn2, 3:pawn3, 4:pawn4}\n",
    "    while 1:\n",
    "        for pawnNumber,pawn in pawns.items(): \n",
    "            spin = spinwheel()\n",
    "            newposition = movepawn(pawns[pawnNumber].currentposition,spin)\n",
    "            pawns[pawnNumber].listofspins.append(spin)\n",
    "            pawns[pawnNumber].currentposition = newposition\n",
    "            if newposition >= 100:\n",
    "                return pawn\n",
    "                \n",
    "twoplayerlist = []\n",
    "\n",
    "for i in range(1000):\n",
    "    pass\n",
    "    twoplayerlist.append(playgame())\n",
    "\n",
    "spincount = []\n",
    "spins_by_count = {}\n",
    "for player in twoplayerlist:\n",
    "    spincount.append(len(player.listofspins))\n",
    "    if len(player.listofspins) in spins_by_count:\n",
    "        spins_by_count[len(player.listofspins)].append(player.listofspins)\n",
    "    else:\n",
    "        tmp_spin_list = []\n",
    "        tmp_spin_list.append(player.listofspins)\n",
    "        spins_by_count[len(player.listofspins)] = tmp_spin_list\n",
    "#average number of spins to win\n",
    "print(sum(spincount)/len(spincount))\n",
    "#minimum number of spins to win\n",
    "print(min(spincount))\n",
    "#spin list for min spins\n",
    "print(spins_by_count[min(spincount)])\n",
    "#maximum number of spins to win\n",
    "print(max(spincount))"
   ]
  }
 ],
 "metadata": {
  "kernelspec": {
   "display_name": "Python 3",
   "language": "python",
   "name": "python3"
  },
  "language_info": {
   "codemirror_mode": {
    "name": "ipython",
    "version": 3
   },
   "file_extension": ".py",
   "mimetype": "text/x-python",
   "name": "python",
   "nbconvert_exporter": "python",
   "pygments_lexer": "ipython3",
   "version": "3.5.2"
  }
 },
 "nbformat": 4,
 "nbformat_minor": 0
}
